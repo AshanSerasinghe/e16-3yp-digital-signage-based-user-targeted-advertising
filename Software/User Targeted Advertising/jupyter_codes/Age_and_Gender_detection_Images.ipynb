{
 "cells": [
  {
   "cell_type": "code",
   "execution_count": 1,
   "metadata": {},
   "outputs": [],
   "source": [
    "import os\n",
    "import cv2\n",
    "import numpy as np\n",
    "import os\n",
    "from os.path import dirname, join"
   ]
  },
  {
   "cell_type": "code",
   "execution_count": 2,
   "metadata": {},
   "outputs": [],
   "source": [
    "#storing mean_values,age & gender\n",
    "MODEL_MEAN_VALUES = (78.4263377603, 87.7689143744, 114.895847746)\n",
    "age_list = ['(0, 2)', '(4, 6)', '(8, 12)', '(15, 20)', '(25, 32)', '(38, 43)', '(48, 53)', '(60, 100)']\n",
    "gender_list = ['Male', 'Female']"
   ]
  },
  {
   "cell_type": "code",
   "execution_count": 3,
   "metadata": {},
   "outputs": [],
   "source": [
    "#read pre-trained neural network data from path to variables\n",
    "protoPathAge = os.path.sep.join([r\"C:\\Users\\hp\\Desktop\\AgeGenderDeepLearning-master\\models\",  \"deploy_age.prototxt\"])\n",
    "modelPathAge = os.path.sep.join([r\"C:\\Users\\hp\\Desktop\\AgeGenderDeepLearning-master\\models\",\"age_net.caffemodel\"])\n",
    "\n",
    "protoPathGender = os.path.sep.join([r\"C:\\Users\\hp\\Desktop\\AgeGenderDeepLearning-master\\models\",  \"deploy_gender.prototxt\"])\n",
    "modelPathGender = os.path.sep.join([r\"C:\\Users\\hp\\Desktop\\AgeGenderDeepLearning-master\\models\",\"gender_net.caffemodel\"])\n",
    "\n",
    "#load neural network pre-trained models for detection\n",
    "age_net = cv2.dnn.readNetFromCaffe(protoPathAge,modelPathAge)\n",
    "gender_net = cv2.dnn.readNetFromCaffe(protoPathGender,modelPathGender)"
   ]
  },
  {
   "cell_type": "code",
   "execution_count": 4,
   "metadata": {},
   "outputs": [],
   "source": [
    "#load pre-build model for face detection\n",
    "face_cascade_path = os.path.sep.join([r\"C:\\Users\\hp\\Desktop\\AgeGenderDeepLearning-master\\haarcascade\",  \"haarcascade_frontalface_default.xml\"])\n",
    "face_cascade = cv2.CascadeClassifier(face_cascade_path)\n",
    "\n",
    "#read image from path\n",
    "image = cv2.imread(r\"C:\\Users\\hp\\Desktop\\AgeGenderDeepLearning-master\\Member2.jpg\")\n",
    "\n",
    "#convert image to grey\n",
    "imgGray = cv2.cvtColor(image, cv2.COLOR_BGR2GRAY)\n",
    "faces = face_cascade.detectMultiScale(imgGray, 1.2 , 4)\n",
    "\n",
    "#for each identified face run algorithm to predict age & gender\n",
    "for (x,y,w,h) in faces:\n",
    "        cv2.rectangle(image, (x,y),(x+w,y+h),(0,0,255),2)\n",
    "        \n",
    "        imgFace = image[y:y+h,x:x+w].copy() # nurel network is only support for 3 chanel data\n",
    "        blob = cv2.dnn.blobFromImage(imgFace, 1, (227, 227), MODEL_MEAN_VALUES, swapRB=False) \n",
    "        # Binary Large Object ---> blob\n",
    "        \n",
    "        #predict age\n",
    "        age_net.setInput(blob)\n",
    "        age_pred = age_net.forward()\n",
    "        age = age_list[age_pred[0].argmax()]\n",
    "        \n",
    "        # predit gender\n",
    "        gender_net.setInput(blob)\n",
    "        gender_pred = gender_net.forward()\n",
    "        gender = gender_list[gender_pred[0].argmax()]\n",
    "        \n",
    "        #display age,gender with the face\n",
    "        full_text = age + \" \" + gender\n",
    "        cv2.putText(image,full_text, (x,y) , cv2.FONT_HERSHEY_COMPLEX, 0.5, (255,0,0), 1)\n",
    "    \n",
    "\n",
    "image_edited = cv2.resize(image, (800, 800))      \n",
    "cv2.imshow(\"Image\" , image_edited)\n",
    "cv2.waitKey(0)\n",
    "cv2.destroyAllWindows()"
   ]
  }
 ],
 "metadata": {
  "kernelspec": {
   "display_name": "Python 3",
   "language": "python",
   "name": "python3"
  },
  "language_info": {
   "codemirror_mode": {
    "name": "ipython",
    "version": 3
   },
   "file_extension": ".py",
   "mimetype": "text/x-python",
   "name": "python",
   "nbconvert_exporter": "python",
   "pygments_lexer": "ipython3",
   "version": "3.8.3"
  }
 },
 "nbformat": 4,
 "nbformat_minor": 2
}
