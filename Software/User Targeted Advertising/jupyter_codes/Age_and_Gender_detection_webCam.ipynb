{
 "cells": [
  {
   "cell_type": "code",
   "execution_count": 1,
   "metadata": {},
   "outputs": [],
   "source": [
    "import cv2\n",
    "import numpy as np\n",
    "import os\n",
    "from os.path import dirname, join\n"
   ]
  },
  {
   "cell_type": "code",
   "execution_count": 2,
   "metadata": {},
   "outputs": [],
   "source": [
    "cap = cv2.VideoCapture(0)        #capture frames from webcam\n",
    "cap.set(3,600) #set frame width\n",
    "cap.set(4,600) #set frame height\n",
    "\n",
    "#storing mean_values,age & gender\n",
    "MODEL_MEAN_VALUES = (78.4263377603, 87.7689143744, 114.895847746)\n",
    "age_list = ['(0, 2)', '(4, 6)', '(8, 12)', '(15, 20)', '(25, 32)', '(38, 43)', '(48, 53)', '(60, 100)']\n",
    "gender_list = ['Male', 'Female']\n"
   ]
  },
  {
   "cell_type": "code",
   "execution_count": 3,
   "metadata": {},
   "outputs": [],
   "source": [
    "#read pre-trained neural network data from path to variables\n",
    "protoPathAge = os.path.sep.join([r\"PATH\",  \"deploy_age.prototxt\"])\n",
    "modelPathAge = os.path.sep.join([r\"PATH\",\"age_net.caffemodel\"])\n",
    "\n",
    "protoPathGender = os.path.sep.join([r\"PATH\",  \"deploy_gender.prototxt\"])\n",
    "modelPathGender = os.path.sep.join([r\"PATH\",\"gender_net.caffemodel\"])\n",
    "\n",
    "#load neural network pre-trained models for detection\n",
    "age_net = cv2.dnn.readNetFromCaffe(protoPathAge,modelPathAge)\n",
    "gender_net = cv2.dnn.readNetFromCaffe(protoPathGender,modelPathGender)"
   ]
  },
  {
   "cell_type": "code",
   "execution_count": null,
   "metadata": {},
   "outputs": [],
   "source": [
    "#load pre-build model for face detection\n",
    "face_cascade_path = os.path.sep.join([r\"PATH\",  \"haarcascade_frontalface_default.xml\"])\n",
    "face_cascade = cv2.CascadeClassifier(face_cascade_path)\n",
    "\n",
    "while cap.isOpened():\n",
    "    sucess, image = cap.read()\n",
    "    #convert image to grey\n",
    "    imgGray = cv2.cvtColor(image, cv2.COLOR_RGB2GRAY)\n",
    "    \n",
    "    #using OpenCV’s CascadedClassifier function detect each face\n",
    "    faces = face_cascade.detectMultiScale(imgGray , 1.2, 5)\n",
    "    \n",
    "    #if no face detected exit current loop\n",
    "    if (len(faces) ==  0):\n",
    "        continue\n",
    "    \n",
    "    #for each identified face run algorithm to predict age & gender\n",
    "    for (x,y,w,h) in faces:\n",
    "        cv2.rectangle(image, (x,y),(x+w,y+h),(0,0,255),2)\n",
    "        \n",
    "        imgFace = image[y:y+h,x:x+w].copy()\n",
    "        blob = cv2.dnn.blobFromImage(imgFace, 1, (227, 227), MODEL_MEAN_VALUES, swapRB=False) \n",
    "        # Binary Large Object ---> blob\n",
    "        \n",
    "        #predict age\n",
    "        age_net.setInput(blob)\n",
    "        age_pred = age_net.forward()\n",
    "        age = age_list[age_pred[0].argmax()]\n",
    "        \n",
    "        # predit gender\n",
    "        gender_net.setInput(blob)\n",
    "        gender_pred = gender_net.forward()\n",
    "        gender = gender_list[gender_pred[0].argmax()]\n",
    "        \n",
    "        #display age,gender with the face\n",
    "        full_text = age + \"  \" + gender\n",
    "        cv2.putText(image,full_text, (x,y) , cv2.FONT_HERSHEY_COMPLEX, 0.5, (255,0,0), 2)\n",
    "        cv2.imshow(\"Video\" , image)\n",
    "        \n",
    "        #condition to terminate program when 'q' pressed\n",
    "        if cv2.waitKey(1) & 0xFFFF == ord('q'):\n",
    "            cv2.destroyAllWindows()\n",
    "            cap.release()\n",
    "            break    \n"
   ]
  },
  {
   "cell_type": "code",
   "execution_count": null,
   "metadata": {},
   "outputs": [],
   "source": []
  }
 ],
 "metadata": {
  "kernelspec": {
   "display_name": "Python 3",
   "language": "python",
   "name": "python3"
  },
  "language_info": {
   "codemirror_mode": {
    "name": "ipython",
    "version": 3
   },
   "file_extension": ".py",
   "mimetype": "text/x-python",
   "name": "python",
   "nbconvert_exporter": "python",
   "pygments_lexer": "ipython3",
   "version": "3.8.3"
  }
 },
 "nbformat": 4,
 "nbformat_minor": 2
}