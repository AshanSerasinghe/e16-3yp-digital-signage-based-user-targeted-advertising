{
 "cells": [
  {
   "cell_type": "code",
   "execution_count": 1,
   "metadata": {},
   "outputs": [],
   "source": [
    "import cv2\n",
    "import numpy as np"
   ]
  },
  {
   "cell_type": "code",
   "execution_count": 2,
   "metadata": {},
   "outputs": [],
   "source": [
    "cap = cv2.VideoCapture(0) #\"D:\\openCVfiles/AnushkaSharma.mp4\"\n",
    "cap.set(4,640)\n",
    "\n",
    "MODEL_MEAN_VALUES = (78.4263377603, 87.7689143744, 114.895847746)\n",
    "age_list = ['(0, 2)', '(4, 6)', '(8, 12)', '(15, 20)', '(25, 32)', '(38, 43)', '(48, 53)', '(60, 100)']\n",
    "gender_list = ['Male', 'Female']\n"
   ]
  },
  {
   "cell_type": "code",
   "execution_count": 3,
   "metadata": {},
   "outputs": [],
   "source": [
    "age_net = cv2.dnn.readNetFromCaffe('D:\\openCVfiles\\dnn/deploy_age.prototxt', 'D:\\openCVfiles\\dnn/age_net.caffemodel')\n",
    "gender_net = cv2.dnn.readNetFromCaffe('D:\\openCVfiles\\dnn/deploy_gender.prototxt', 'D:\\openCVfiles\\dnn/gender_net.caffemodel')"
   ]
  },
  {
   "cell_type": "code",
   "execution_count": 4,
   "metadata": {},
   "outputs": [],
   "source": [
    "face_cascade = cv2.CascadeClassifier(\"D:\\openCVfiles\\haarcascade/haarcascade_frontalface_default.xml\")\n",
    "while cap.isOpened():\n",
    "    sucess, image = cap.read()\n",
    "    imgGray = cv2.cvtColor(image, cv2.COLOR_RGB2GRAY)\n",
    "    \n",
    "    faces = face_cascade.detectMultiScale(imgGray , 1.2, 5)\n",
    "    #print(faces)\n",
    "    \n",
    "    if len(faces) is  0:\n",
    "        #print(\"{} Faces Detected\".format(len(faces)))\n",
    "        continue\n",
    "    #else:\n",
    "        #continue\n",
    "    for (x,y,w,h) in faces:\n",
    "        cv2.rectangle(image, (x,y),(x+w,y+h),(0,0,255),2)\n",
    "        \n",
    "        imgFace = image[y:y+h,x:x+w].copy()\n",
    "        blob = cv2.dnn.blobFromImage(imgFace, 1, (227, 227), MODEL_MEAN_VALUES, swapRB=False) \n",
    "        # Binary Large Object ---> blob\n",
    "        \n",
    "        #predict age\n",
    "        age_net.setInput(blob)\n",
    "        age_pred = age_net.forward()\n",
    "        age = age_list[age_pred[0].argmax()]\n",
    "#         print(age)\n",
    "        \n",
    "        # predit gender\n",
    "        gender_net.setInput(blob)\n",
    "        gender_pred = gender_net.forward()\n",
    "        gender = gender_list[gender_pred[0].argmax()]\n",
    "#         print(gender)\n",
    "        \n",
    "        full_text = age + \"  \" + gender\n",
    "        cv2.putText(image,full_text, (x,y) , cv2.FONT_HERSHEY_COMPLEX, 0.5, (255,0,0), 2)\n",
    "        cv2.imshow(\"Video\" , image)\n",
    "    if cv2.waitKey(1) & 0xFFFF == ord('q'):\n",
    "        break\n",
    "                \n",
    "cap.release()\n",
    "cv2.destroyAllWindows()"
   ]
  },
  {
   "cell_type": "code",
   "execution_count": null,
   "metadata": {},
   "outputs": [],
   "source": [
    "cv2.imshow(\"xxx\",image)\n",
    "        cv2.waitKey(0)"
   ]
  },
  {
   "cell_type": "code",
   "execution_count": 58,
   "metadata": {},
   "outputs": [],
   "source": [
    "cap.release()\n",
    "cv2.destroyAllWindows()"
   ]
  },
  {
   "cell_type": "code",
   "execution_count": 79,
   "metadata": {},
   "outputs": [
    {
     "data": {
      "text/plain": [
       "array([[0.03073028, 0.96926975]], dtype=float32)"
      ]
     },
     "execution_count": 79,
     "metadata": {},
     "output_type": "execute_result"
    }
   ],
   "source": [
    "gender_pred"
   ]
  },
  {
   "cell_type": "code",
   "execution_count": null,
   "metadata": {},
   "outputs": [],
   "source": []
  }
 ],
 "metadata": {
  "kernelspec": {
   "display_name": "Python 3",
   "language": "python",
   "name": "python3"
  },
  "language_info": {
   "codemirror_mode": {
    "name": "ipython",
    "version": 3
   },
   "file_extension": ".py",
   "mimetype": "text/x-python",
   "name": "python",
   "nbconvert_exporter": "python",
   "pygments_lexer": "ipython3",
   "version": "3.7.4"
  }
 },
 "nbformat": 4,
 "nbformat_minor": 2
}
